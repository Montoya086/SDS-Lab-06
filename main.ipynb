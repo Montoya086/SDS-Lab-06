{
 "cells": [
  {
   "cell_type": "markdown",
   "metadata": {},
   "source": [
    "# Lab 6 - Security Data Science\n",
    "\n",
    "Andrés Estuardo Montoya Wilhelm"
   ]
  },
  {
   "cell_type": "code",
   "execution_count": 33,
   "metadata": {},
   "outputs": [],
   "source": [
    "from scapy.all import *\n",
    "from scapy.layers.inet import IP, TCP, UDP\n",
    "import pandas as pd\n",
    "import matplotlib.pyplot as plt\n",
    "from datetime import datetime"
   ]
  },
  {
   "cell_type": "markdown",
   "metadata": {},
   "source": [
    "## Preamble"
   ]
  },
  {
   "cell_type": "code",
   "execution_count": 3,
   "metadata": {},
   "outputs": [],
   "source": [
    "def scapy_test():\n",
    "    print(\"Starting packet capture...\")\n",
    "    \n",
    "    #capture 25 packets\n",
    "    packets = sniff(count=25)\n",
    "    \n",
    "    print(\"\\nVariable type:\", type(packets))\n",
    "    print(\"Number of packets captured:\", len(packets))\n",
    "    print(\"\\nFirst packet type:\", type(packets[0]))\n",
    "    \n",
    "    #first 5 packets\n",
    "    print(\"\\nContent of first 5 packets:\")\n",
    "    for i in range(min(5, len(packets))):\n",
    "        print(f\"\\nPacket {i+1}:\")\n",
    "        print(packets[i].show())"
   ]
  },
  {
   "cell_type": "code",
   "execution_count": 4,
   "metadata": {},
   "outputs": [
    {
     "name": "stdout",
     "output_type": "stream",
     "text": [
      "Starting packet capture...\n",
      "\n",
      "Variable type: <class 'scapy.plist.PacketList'>\n",
      "Number of packets captured: 25\n",
      "\n",
      "First packet type: <class 'scapy.layers.l2.Ether'>\n",
      "\n",
      "Content of first 5 packets:\n",
      "\n",
      "Packet 1:\n",
      "###[ Ethernet ]### \n",
      "  dst       = 60:38:e0:a8:80:3a\n",
      "  src       = 4e:e4:0d:79:80:25\n",
      "  type      = IPv4\n",
      "###[ IP ]### \n",
      "     version   = 4\n",
      "     ihl       = 5\n",
      "     tos       = 0x0\n",
      "     len       = 192\n",
      "     id        = 0\n",
      "     flags     = DF\n",
      "     frag      = 0\n",
      "     ttl       = 64\n",
      "     proto     = udp\n",
      "     chksum    = 0xa41e\n",
      "     src       = 192.168.5.137\n",
      "     dst       = 142.250.64.227\n",
      "     \\options   \\\n",
      "###[ UDP ]### \n",
      "        sport     = 51533\n",
      "        dport     = https\n",
      "        len       = 172\n",
      "        chksum    = 0x753\n",
      "###[ Raw ]### \n",
      "           load      = 'E\\\\xe8\\x16.\\\\xef\\\\xf4UM6٤nL4y\\\\x89\\\\xa5\\\\x85\\\\xeb\\x08\\\\xa6\\\\x8f\\\\xd5-\\\\xd3.\\\\x92Ӭ\\\\xf0\\\\x88\\\\xf3r\\\\xac)\\\\x9b9\\\\x82:\\\\xa3\\\\x95(\\\\xd5ɴ\\\\xc0*\\\\x8a\\\\x9b\\\\x8d\\\\x9f\\x1fM(.\\x05ڶ&0\\\\x86Y2\\\\xefE}8>h0ۏ\\\\xc0\\\\x80h.R?\\\\xc4\\x12\\\\xf8\\\\xc8ؼ\\\\x93MsX\\\\xe2\\\\xb4\\\\xdc\\x10\\\\x80\\\\xe9\\\\xdb\\x02\\\\xb4Nԩ\\x04?M\\\\xafU%\\\\xc8\\\\xe8\\\\x84>F\\\\xab\\\\xb6\\\\x89\\x01\\\\xec-\\\\x98\\\\xb3U\\x0f,oc\\\\xde%\\x1b\\\\xb0\\\\x84\\\\x9e\\x1a\\\\xedl\\\\xd09\\\\xa6p\\\\x8c\\\\xddn^\\\\xa7^\\\\xfc\\\\xac\\x06~/\\\\xe3\\\\x97\\\\xe5S\\\\xf8_(\\\\x9c\\\\xe49\\\\xa9s\\\\xcfBU3'\n",
      "\n",
      "None\n",
      "\n",
      "Packet 2:\n",
      "###[ Ethernet ]### \n",
      "  dst       = 4e:e4:0d:79:80:25\n",
      "  src       = 60:38:e0:a8:80:3a\n",
      "  type      = IPv4\n",
      "###[ IP ]### \n",
      "     version   = 4\n",
      "     ihl       = 5\n",
      "     tos       = 0x0\n",
      "     len       = 61\n",
      "     id        = 0\n",
      "     flags     = DF\n",
      "     frag      = 0\n",
      "     ttl       = 53\n",
      "     proto     = udp\n",
      "     chksum    = 0xafa1\n",
      "     src       = 142.250.64.227\n",
      "     dst       = 192.168.5.137\n",
      "     \\options   \\\n",
      "###[ UDP ]### \n",
      "        sport     = https\n",
      "        dport     = 51533\n",
      "        len       = 41\n",
      "        chksum    = 0xb40c\n",
      "###[ Raw ]### \n",
      "           load      = 'Y\\\\x97\\\\xb3\\x10\\x03\\x1a\\\\xdc`\\x136\\\\\\\\x8e\\\\xfc*\\\\x9e\\\\xb5393i\\x16,\\\\x85\\x1f\\\\xb6\\\\xe3\\\\x9c\\\\xee\\\\x8f;Y\\\\xb3\\\\xb5'\n",
      "\n",
      "None\n",
      "\n",
      "Packet 3:\n",
      "###[ Ethernet ]### \n",
      "  dst       = 4e:e4:0d:79:80:25\n",
      "  src       = 60:38:e0:a8:80:3a\n",
      "  type      = IPv4\n",
      "###[ IP ]### \n",
      "     version   = 4\n",
      "     ihl       = 5\n",
      "     tos       = 0x0\n",
      "     len       = 194\n",
      "     id        = 0\n",
      "     flags     = DF\n",
      "     frag      = 0\n",
      "     ttl       = 53\n",
      "     proto     = udp\n",
      "     chksum    = 0xaf1c\n",
      "     src       = 142.250.64.227\n",
      "     dst       = 192.168.5.137\n",
      "     \\options   \\\n",
      "###[ UDP ]### \n",
      "        sport     = https\n",
      "        dport     = 51533\n",
      "        len       = 174\n",
      "        chksum    = 0x67d8\n",
      "###[ Raw ]### \n",
      "           load      = \"N\\\\x9cFp\\\\xb5\\\\xaf\\\\x9a{d=\\\\x92\\\\xce\\x12\\\\xf3\\\\xdc\\x00\\\\xaa\\\\xdd7nW\\x7f\\\\xca\\\\xfc_\\\\xa5x8(\\\\x8d\\\\xae\\\\xec80\\\\x9e\\\\xb3\\\\xea21\\\\xff\\x03e꩖\\\\x9f\\\\x9a-\\\\xeaX\\\\xdf3e\\\\xf4V\\x11\\\\x9c\\\\xdfU㨽\\\\x83ѫ\\\\xfd\\x05--P\\\\xe6m\\\\xe51\\\\x8e3w0\\\\xd5>i:\\\\xc2%\\U000333cc\\\\xd6[\\\\xe6>\\\\xffݬ\\\\xa9\\x15\\x01\\x0f\\\\xd7\\\\xed&b'\\\\x9cS\\\\xf0iaÐ\\\\xfc\\\\xb8W\\x15RJ2\\\\xd5\\\\xcdM)\\x02\\x00\\\\x80\\\\xc5>)\\\\xa4\\x18\\\\x83\\\\xe9\\\\xd0\\x13\\\\xf4\\\\xc5y\\\\xdc\\ue5c8:|\\\\xb3\\x1d\\\\xa9\\x14\\\\x97\\\\xb6+\\x02\\x0el\\x08\\\\xc7,LV\\\\x93\\\\xa4\\\\xa3\\\\xa0\\\\x8a\\x14\\\\xf0\\\\xef\"\n",
      "\n",
      "None\n",
      "\n",
      "Packet 4:\n",
      "###[ Ethernet ]### \n",
      "  dst       = 60:38:e0:a8:80:3a\n",
      "  src       = 4e:e4:0d:79:80:25\n",
      "  type      = IPv4\n",
      "###[ IP ]### \n",
      "     version   = 4\n",
      "     ihl       = 5\n",
      "     tos       = 0x0\n",
      "     len       = 68\n",
      "     id        = 0\n",
      "     flags     = DF\n",
      "     frag      = 0\n",
      "     ttl       = 64\n",
      "     proto     = udp\n",
      "     chksum    = 0xa49a\n",
      "     src       = 192.168.5.137\n",
      "     dst       = 142.250.64.227\n",
      "     \\options   \\\n",
      "###[ UDP ]### \n",
      "        sport     = 51533\n",
      "        dport     = https\n",
      "        len       = 48\n",
      "        chksum    = 0xf511\n",
      "###[ Raw ]### \n",
      "           load      = '@\\\\xe8\\x16.\\\\xef\\\\xf4UM6\\\\xcai1\\\\xcb\\rP\\\\xf3\\t!s\\\\x98 \\\\xabg\\\\x93\\\\x83\\\\xe60f\\r\\\\xae\\\\x90\\\\xa6r\\x19\\\\xe5\\\\x8bT\\\\xf1L\\\\xdf'\n",
      "\n",
      "None\n",
      "\n",
      "Packet 5:\n",
      "###[ Ethernet ]### \n",
      "  dst       = 4e:e4:0d:79:80:25\n",
      "  src       = ac:67:84:e7:8c:da\n",
      "  type      = IPv4\n",
      "###[ IP ]### \n",
      "     version   = 4\n",
      "     ihl       = 5\n",
      "     tos       = 0x0\n",
      "     len       = 162\n",
      "     id        = 39650\n",
      "     flags     = DF\n",
      "     frag      = 0\n",
      "     ttl       = 64\n",
      "     proto     = tcp\n",
      "     chksum    = 0x1325\n",
      "     src       = 192.168.5.117\n",
      "     dst       = 192.168.5.137\n",
      "     \\options   \\\n",
      "###[ TCP ]### \n",
      "        sport     = 8009\n",
      "        dport     = 50957\n",
      "        seq       = 1095326432\n",
      "        ack       = 197105223\n",
      "        dataofs   = 8\n",
      "        reserved  = 0\n",
      "        flags     = PA\n",
      "        window    = 408\n",
      "        chksum    = 0xc709\n",
      "        urgptr    = 0\n",
      "        options   = [('NOP', None), ('NOP', None), ('Timestamp', (176599418, 3630625649))]\n",
      "###[ Raw ]### \n",
      "           load      = '\\x17\\x03\\x03\\x00i\\x069\\\\xa4\\\\xd32\\\\x95\\rlF\\\\xb6d&\\\\xb5\\x06\\\\x8f\\\\xf7:\\\\x9d\\\\xac\\x7f\\x11\\\\xb2\\\\xbc\\\\xe8\\\\xac\"\\\\x95S\\\\xc7\\\\xe3\\x03d\\\\xfb\\\\xf96z\\\\xca?\\\\xd6\\x0bZ\\\\xff\\\\xa8\\\\x95\\\\xfb\\\\x85\\\\xc9.\\\\xef\\\\xe5\\\\x9dyQVEh\\\\xd2E\\n\\\\xd4\\x17$\\\\xaa壜\\\\xf0\\\\xa8,\\\\x8d\\\\xf0\\\\x8b.Y\\\\xf5\\x11\\x14\\\\xaam{\\x08\\\\x94\\\\xddE\\\\x9cI*M\\\\xf7\\\\xef\\\\xe4\\\\xcb_u~ɑ\\x08\\x16\\\\xcb\\\\xd0I\\\\xf5\\\\xce\\\\xcb'\n",
      "\n",
      "None\n"
     ]
    }
   ],
   "source": [
    "scapy_test()"
   ]
  },
  {
   "cell_type": "markdown",
   "metadata": {},
   "source": [
    "## Analysis"
   ]
  },
  {
   "cell_type": "code",
   "execution_count": 35,
   "metadata": {},
   "outputs": [],
   "source": [
    "def analyze_pcap(file):\n",
    "    print(\"Reading PCAP file...\")\n",
    "    packets = rdpcap(file)\n",
    "    \n",
    "    # Convert packets to DataFrame\n",
    "    print(\"\\nConverting packets to DataFrame...\")\n",
    "    packet_list = []\n",
    "    \n",
    "    for packet in packets:\n",
    "        if IP in packet:\n",
    "            packet_info = {\n",
    "                'Src Address': packet[IP].src,\n",
    "                'Dst Address': packet[IP].dst,\n",
    "                'Src Port': packet[TCP].sport if TCP in packet else packet[UDP].sport if UDP in packet else 'N/A',\n",
    "                'Dst Port': packet[TCP].dport if TCP in packet else packet[UDP].dport if UDP in packet else 'N/A',\n",
    "                'Payload Size': len(packet),\n",
    "                'Time': packet.time\n",
    "            }\n",
    "            packet_list.append(packet_info)\n",
    "    \n",
    "    df = pd.DataFrame(packet_list)\n",
    "    \n",
    "    return df"
   ]
  },
  {
   "cell_type": "code",
   "execution_count": 36,
   "metadata": {},
   "outputs": [
    {
     "name": "stdout",
     "output_type": "stream",
     "text": [
      "Reading PCAP file...\n",
      "\n",
      "Converting packets to DataFrame...\n"
     ]
    }
   ],
   "source": [
    "df = analyze_pcap('./analisis_paquetes.pcap')\n"
   ]
  },
  {
   "cell_type": "code",
   "execution_count": 16,
   "metadata": {},
   "outputs": [
    {
     "name": "stdout",
     "output_type": "stream",
     "text": [
      "   Src Address  Dst Address  Src Port  Dst Port\n",
      "0   10.1.10.53  84.54.22.33        53        53\n",
      "1  84.54.22.33   10.1.10.53        53        53\n",
      "2   10.1.10.53  84.54.22.33        53        53\n",
      "3  84.54.22.33   10.1.10.53        53        53\n",
      "4   10.1.10.53  84.54.22.33        53        53\n"
     ]
    }
   ],
   "source": [
    "print(df.head())"
   ]
  },
  {
   "cell_type": "code",
   "execution_count": 13,
   "metadata": {},
   "outputs": [
    {
     "name": "stdout",
     "output_type": "stream",
     "text": [
      "   Src Address  Dst Address  Src Port  Dst Port\n",
      "0   10.1.10.53  84.54.22.33        53        53\n",
      "1  84.54.22.33   10.1.10.53        53        53\n",
      "2   10.1.10.53  84.54.22.33        53        53\n",
      "3  84.54.22.33   10.1.10.53        53        53\n",
      "4   10.1.10.53  84.54.22.33        53        53\n"
     ]
    }
   ],
   "source": [
    "print(df[['Src Address', 'Dst Address', 'Src Port', 'Dst Port']].head())"
   ]
  },
  {
   "cell_type": "markdown",
   "metadata": {},
   "source": [
    "### All source IP's"
   ]
  },
  {
   "cell_type": "code",
   "execution_count": 17,
   "metadata": {},
   "outputs": [
    {
     "name": "stdout",
     "output_type": "stream",
     "text": [
      "['10.1.10.53' '84.54.22.33' '75.75.75.75']\n"
     ]
    }
   ],
   "source": [
    "print(df['Src Address'].unique())"
   ]
  },
  {
   "cell_type": "markdown",
   "metadata": {},
   "source": [
    "### All destination IP's"
   ]
  },
  {
   "cell_type": "code",
   "execution_count": 18,
   "metadata": {},
   "outputs": [
    {
     "name": "stdout",
     "output_type": "stream",
     "text": [
      "['84.54.22.33' '10.1.10.53' '75.75.75.75']\n"
     ]
    }
   ],
   "source": [
    "print(df['Dst Address'].unique())"
   ]
  },
  {
   "cell_type": "markdown",
   "metadata": {},
   "source": [
    "### Most frequent source IP "
   ]
  },
  {
   "cell_type": "code",
   "execution_count": 19,
   "metadata": {},
   "outputs": [
    {
     "name": "stdout",
     "output_type": "stream",
     "text": [
      "IP: 10.1.10.53\n"
     ]
    }
   ],
   "source": [
    "most_frequent_src = df['Src Address'].mode().iloc[0]\n",
    "print(f\"IP: {most_frequent_src}\")"
   ]
  },
  {
   "cell_type": "markdown",
   "metadata": {},
   "source": [
    "**Most frequent destination IP**"
   ]
  },
  {
   "cell_type": "code",
   "execution_count": 26,
   "metadata": {},
   "outputs": [
    {
     "name": "stdout",
     "output_type": "stream",
     "text": [
      "84.54.22.33\n"
     ]
    }
   ],
   "source": [
    "src_communications = df[df['Src Address'] == most_frequent_src]\n",
    "most_frequent_dst = src_communications['Dst Address'].mode().iloc[0]\n",
    "print(most_frequent_dst)"
   ]
  },
  {
   "cell_type": "markdown",
   "metadata": {},
   "source": [
    "**Most frequent destination port**"
   ]
  },
  {
   "cell_type": "code",
   "execution_count": 28,
   "metadata": {},
   "outputs": [
    {
     "name": "stdout",
     "output_type": "stream",
     "text": [
      "53\n"
     ]
    }
   ],
   "source": [
    "most_frequent_port = src_communications['Dst Port'].mode().iloc[0]\n",
    "print(most_frequent_port)"
   ]
  },
  {
   "cell_type": "markdown",
   "metadata": {},
   "source": [
    "**Source ports used**"
   ]
  },
  {
   "cell_type": "code",
   "execution_count": 32,
   "metadata": {},
   "outputs": [
    {
     "name": "stdout",
     "output_type": "stream",
     "text": [
      "[   53 15812 23903]\n"
     ]
    }
   ],
   "source": [
    "print(src_communications['Src Port'].unique())"
   ]
  },
  {
   "cell_type": "markdown",
   "metadata": {},
   "source": [
    "## Graphs"
   ]
  },
  {
   "cell_type": "code",
   "execution_count": 38,
   "metadata": {},
   "outputs": [
    {
     "data": {
      "image/png": "[encoded data removed]",
      "text/plain": [
       "<Figure size 1200x600 with 1 Axes>"
      ]
     },
     "metadata": {},
     "output_type": "display_data"
    }
   ],
   "source": [
    "plt.figure(figsize=(12, 6))\n",
    "src_payloads = df.groupby('Src Address')['Payload Size'].sum().sort_values(ascending=True)\n",
    "plt.barh(range(len(src_payloads)), src_payloads.values)\n",
    "plt.yticks(range(len(src_payloads)), src_payloads.index)\n",
    "plt.xlabel('Total Payload Size (bytes)')\n",
    "plt.ylabel('Source IP')\n",
    "plt.title('Total Payload Size by Source IP')\n",
    "plt.tight_layout()"
   ]
  },
  {
   "cell_type": "code",
   "execution_count": 40,
   "metadata": {},
   "outputs": [
    {
     "data": {
      "image/png": "[encoded data removed]",
      "text/plain": [
       "<Figure size 1200x600 with 1 Axes>"
      ]
     },
     "metadata": {},
     "output_type": "display_data"
    }
   ],
   "source": [
    "plt.figure(figsize=(12, 6))\n",
    "dst_payloads = df.groupby('Dst Address')['Payload Size'].sum().sort_values(ascending=True)\n",
    "plt.barh(range(len(dst_payloads)), dst_payloads.values)\n",
    "plt.yticks(range(len(dst_payloads)), dst_payloads.index)\n",
    "plt.xlabel('Total Payload Size (bytes)')\n",
    "plt.ylabel('Destination IP')\n",
    "plt.title('Total Payload Size by Destination IP')\n",
    "plt.tight_layout()"
   ]
  },
  {
   "cell_type": "code",
   "execution_count": 41,
   "metadata": {},
   "outputs": [
    {
     "data": {
      "image/png": "[encoded data removed]",
      "text/plain": [
       "<Figure size 1200x600 with 1 Axes>"
      ]
     },
     "metadata": {},
     "output_type": "display_data"
    }
   ],
   "source": [
    "plt.figure(figsize=(12, 6))\n",
    "src_port_payloads = df.groupby('Src Port')['Payload Size'].sum().sort_values(ascending=True)\n",
    "plt.barh(range(len(src_port_payloads)), src_port_payloads.values)\n",
    "plt.yticks(range(len(src_port_payloads)), src_port_payloads.index)\n",
    "plt.xlabel('Total Payload Size (bytes)')\n",
    "plt.ylabel('Source Port')\n",
    "plt.title('Total Payload Size by Source Port')\n",
    "plt.tight_layout()"
   ]
  },
  {
   "cell_type": "code",
   "execution_count": 42,
   "metadata": {},
   "outputs": [
    {
     "data": {
      "image/png": "[encoded data removed]",
      "text/plain": [
       "<Figure size 1200x600 with 1 Axes>"
      ]
     },
     "metadata": {},
     "output_type": "display_data"
    }
   ],
   "source": [
    "plt.figure(figsize=(12, 6))\n",
    "dst_port_payloads = df.groupby('Dst Port')['Payload Size'].sum().sort_values(ascending=True)\n",
    "plt.barh(range(len(dst_port_payloads)), dst_port_payloads.values)\n",
    "plt.yticks(range(len(dst_port_payloads)), dst_port_payloads.index)\n",
    "plt.xlabel('Total Payload Size (bytes)')\n",
    "plt.ylabel('Destination Port')\n",
    "plt.title('Total Payload Size by Destination Port')\n",
    "plt.tight_layout()"
   ]
  },
  {
   "cell_type": "code",
   "execution_count": 43,
   "metadata": {},
   "outputs": [
    {
     "data": {
      "image/png": "[encoded data removed]",
      "text/plain": [
       "<Figure size 1500x600 with 1 Axes>"
      ]
     },
     "metadata": {},
     "output_type": "display_data"
    }
   ],
   "source": [
    "most_frequent_src = df['Src Address'].mode().iloc[0]\n",
    "src_time_data = df[df['Src Address'] == most_frequent_src].sort_values('Time')\n",
    "\n",
    "plt.figure(figsize=(15, 6))\n",
    "plt.bar(range(len(src_time_data)), src_time_data['Payload Size'])\n",
    "plt.xlabel('Packet Number')\n",
    "plt.ylabel('Payload Size (bytes)')\n",
    "plt.title(f'Payload Size Over Time for IP: {most_frequent_src}')\n",
    "plt.tight_layout()"
   ]
  },
  {
   "cell_type": "markdown",
   "metadata": {},
   "source": [
    "### Results\n",
    "Al analizar las gráficas del tráfico de red capturado, se puede observar que la mayoría de la actividad se centra en una IP local (10.1.10.53) que está operando como servidor DNS, lo cual se evidencia por el uso predominante del puerto 53. El comportamiento muestra un patrón muy consistente en el tamaño de los paquetes, manteniéndose normalmente por debajo de los 1000 bytes, con algunas caídas ocasionales.\n",
    "\n",
    "Podemos observar en el trafico, cómo el servidor DNS local se comunica tanto con direcciones internas como con algunas IPs externas (como 84.54.22.33), esto debido a que los servidores de DNS actuan como un intermediario entre los servidores locales y los externos. Los patrones de tráfico son mayormente consistentes y predecibles, lo cual significa que carecen de anomalías significativas que pudieran indicar algun tipo de problema."
   ]
  },
  {
   "cell_type": "markdown",
   "metadata": {},
   "source": [
    "## Payload Analysis"
   ]
  },
  {
   "cell_type": "code",
   "execution_count": 45,
   "metadata": {},
   "outputs": [
    {
     "name": "stdout",
     "output_type": "stream",
     "text": [
      "\n",
      "Most frequent source IP: 10.1.10.53\n",
      "\n",
      "First 5 rows of DataFrame with most frequent source IP:\n",
      "  Src Address  Dst Address  Src Port  Dst Port  Payload Size  \\\n",
      "0  10.1.10.53  84.54.22.33        53        53           975   \n",
      "2  10.1.10.53  84.54.22.33        53        53           989   \n",
      "4  10.1.10.53  84.54.22.33        53        53          1026   \n",
      "6  10.1.10.53  84.54.22.33        53        53          1012   \n",
      "8  10.1.10.53  84.54.22.33        53        53          1017   \n",
      "\n",
      "                Time  \n",
      "0  1532199330.917674  \n",
      "2  1532199331.937777  \n",
      "4  1532199332.960504  \n",
      "6  1532199333.982248  \n",
      "8  1532199335.003376  \n"
     ]
    }
   ],
   "source": [
    "most_frequent_ip = df['Src Address'].mode().iloc[0]\n",
    "print(f\"\\nMost frequent source IP: {most_frequent_ip}\")\n",
    "df_frequent_ip = df[df['Src Address'] == most_frequent_ip]\n",
    "print(\"\\nFirst 5 rows of DataFrame with most frequent source IP:\")\n",
    "print(df_frequent_ip.head())"
   ]
  },
  {
   "cell_type": "code",
   "execution_count": 46,
   "metadata": {},
   "outputs": [
    {
     "name": "stdout",
     "output_type": "stream",
     "text": [
      "\n",
      "DataFrame grouped by destination with payload sum:\n",
      "   Dst Address Src Address  Payload Size\n",
      "0  75.75.75.75  10.1.10.53           158\n",
      "1  84.54.22.33  10.1.10.53         29197\n"
     ]
    }
   ],
   "source": [
    "df_grouped = df_frequent_ip[\n",
    "    ['Src Address', \n",
    "     'Dst Address', \n",
    "     'Payload Size']\n",
    "].groupby('Dst Address').agg({\n",
    "    'Src Address': 'first',\n",
    "    'Payload Size': 'sum'\n",
    "}).reset_index()\n",
    "print(\"\\nDataFrame grouped by destination with payload sum:\")\n",
    "print(df_grouped)"
   ]
  },
  {
   "cell_type": "code",
   "execution_count": 47,
   "metadata": {},
   "outputs": [
    {
     "name": "stdout",
     "output_type": "stream",
     "text": [
      "\n",
      "Suspicious IP (highest byte exchange): 84.54.22.33\n",
      "Total bytes exchanged: 29197\n"
     ]
    }
   ],
   "source": [
    "suspicious_ip = df_grouped.loc[df_grouped['Payload Size'].idxmax(), 'Dst Address']\n",
    "max_payload = df_grouped['Payload Size'].max()\n",
    "print(f\"\\nSuspicious IP (highest byte exchange): {suspicious_ip}\")\n",
    "print(f\"Total bytes exchanged: {max_payload}\")"
   ]
  },
  {
   "cell_type": "code",
   "execution_count": 49,
   "metadata": {},
   "outputs": [
    {
     "name": "stdout",
     "output_type": "stream",
     "text": [
      "\n",
      "Conversation between most frequent IP and suspicious IP:\n",
      "    Src Address  Dst Address  Src Port  Dst Port  Payload Size  \\\n",
      "0    10.1.10.53  84.54.22.33        53        53           975   \n",
      "1   84.54.22.33   10.1.10.53        53        53            98   \n",
      "2    10.1.10.53  84.54.22.33        53        53           989   \n",
      "3   84.54.22.33   10.1.10.53        53        53            98   \n",
      "4    10.1.10.53  84.54.22.33        53        53          1026   \n",
      "5   84.54.22.33   10.1.10.53        53        53            98   \n",
      "6    10.1.10.53  84.54.22.33        53        53          1012   \n",
      "7   84.54.22.33   10.1.10.53        53        53            98   \n",
      "8    10.1.10.53  84.54.22.33        53        53          1017   \n",
      "9   84.54.22.33   10.1.10.53        53        53            98   \n",
      "10   10.1.10.53  84.54.22.33        53        53          1059   \n",
      "11  84.54.22.33   10.1.10.53        53        53            98   \n",
      "12   10.1.10.53  84.54.22.33        53        53          1022   \n",
      "13  84.54.22.33   10.1.10.53        53        53            98   \n",
      "14   10.1.10.53  84.54.22.33        53        53           993   \n",
      "15  84.54.22.33   10.1.10.53        53        53            98   \n",
      "16   10.1.10.53  84.54.22.33        53        53           973   \n",
      "17  84.54.22.33   10.1.10.53        53        53            98   \n",
      "18   10.1.10.53  84.54.22.33        53        53          1006   \n",
      "19  84.54.22.33   10.1.10.53        53        53            98   \n",
      "20   10.1.10.53  84.54.22.33        53        53          1065   \n",
      "21  84.54.22.33   10.1.10.53        53        53            98   \n",
      "26   10.1.10.53  84.54.22.33        53        53          1020   \n",
      "27  84.54.22.33   10.1.10.53        53        53            98   \n",
      "28   10.1.10.53  84.54.22.33        53        53          1000   \n",
      "29  84.54.22.33   10.1.10.53        53        53            98   \n",
      "30   10.1.10.53  84.54.22.33        53        53          1018   \n",
      "31  84.54.22.33   10.1.10.53        53        53            98   \n",
      "32   10.1.10.53  84.54.22.33        53        53          1051   \n",
      "33  84.54.22.33   10.1.10.53        53        53            98   \n",
      "34   10.1.10.53  84.54.22.33        53        53          1018   \n",
      "35  84.54.22.33   10.1.10.53        53        53            98   \n",
      "36   10.1.10.53  84.54.22.33        53        53          1053   \n",
      "37  84.54.22.33   10.1.10.53        53        53            98   \n",
      "38   10.1.10.53  84.54.22.33        53        53          1051   \n",
      "39  84.54.22.33   10.1.10.53        53        53            98   \n",
      "40   10.1.10.53  84.54.22.33        53        53          1049   \n",
      "41  84.54.22.33   10.1.10.53        53        53            98   \n",
      "42   10.1.10.53  84.54.22.33        53        53          1024   \n",
      "43  84.54.22.33   10.1.10.53        53        53            98   \n",
      "44   10.1.10.53  84.54.22.33        53        53          1020   \n",
      "45  84.54.22.33   10.1.10.53        53        53            98   \n",
      "46   10.1.10.53  84.54.22.33        53        53          1020   \n",
      "47  84.54.22.33   10.1.10.53        53        53            98   \n",
      "48   10.1.10.53  84.54.22.33        53        53          1027   \n",
      "49  84.54.22.33   10.1.10.53        53        53            98   \n",
      "50   10.1.10.53  84.54.22.33        53        53          1033   \n",
      "51  84.54.22.33   10.1.10.53        53        53            98   \n",
      "52   10.1.10.53  84.54.22.33        53        53          1019   \n",
      "53  84.54.22.33   10.1.10.53        53        53            98   \n",
      "54   10.1.10.53  84.54.22.33        53        53          1031   \n",
      "55  84.54.22.33   10.1.10.53        53        53            98   \n",
      "56   10.1.10.53  84.54.22.33        53        53          1041   \n",
      "57  84.54.22.33   10.1.10.53        53        53            98   \n",
      "58   10.1.10.53  84.54.22.33        53        53           983   \n",
      "59  84.54.22.33   10.1.10.53        53        53            98   \n",
      "60   10.1.10.53  84.54.22.33        53        53           602   \n",
      "61  84.54.22.33   10.1.10.53        53        53            98   \n",
      "\n",
      "                 Time  \n",
      "0   1532199330.917674  \n",
      "1   1532199330.950107  \n",
      "2   1532199331.937777  \n",
      "3   1532199331.956635  \n",
      "4   1532199332.960504  \n",
      "5   1532199332.971509  \n",
      "6   1532199333.982248  \n",
      "7   1532199333.993114  \n",
      "8   1532199335.003376  \n",
      "9   1532199335.028202  \n",
      "10  1532199336.021501  \n",
      "11  1532199336.040822  \n",
      "12  1532199337.041202  \n",
      "13  1532199337.052999  \n",
      "14  1532199338.058108  \n",
      "15  1532199338.068566  \n",
      "16  1532199339.078320  \n",
      "17  1532199339.139649  \n",
      "18  1532199340.094091  \n",
      "19  1532199340.110409  \n",
      "20  1532199341.114699  \n",
      "21  1532199341.156524  \n",
      "26  1532199342.132537  \n",
      "27  1532199342.144200  \n",
      "28  1532199343.153571  \n",
      "29  1532199343.165917  \n",
      "30  1532199344.175057  \n",
      "31  1532199344.185602  \n",
      "32  1532199345.192632  \n",
      "33  1532199345.206064  \n",
      "34  1532199346.214431  \n",
      "35  1532199346.230095  \n",
      "36  1532199347.233872  \n",
      "37  1532199347.245332  \n",
      "38  1532199348.252542  \n",
      "39  1532199348.264799  \n",
      "40  1532199349.271787  \n",
      "41  1532199349.308749  \n",
      "42  1532199350.293494  \n",
      "43  1532199350.304299  \n",
      "44  1532199351.311700  \n",
      "45  1532199351.355696  \n",
      "46  1532199352.332264  \n",
      "47  1532199352.343638  \n",
      "48  1532199353.353065  \n",
      "49  1532199353.369271  \n",
      "50  1532199354.372890  \n",
      "51  1532199354.384039  \n",
      "52  1532199355.393694  \n",
      "53  1532199355.413524  \n",
      "54  1532199356.414539  \n",
      "55  1532199356.426000  \n",
      "56  1532199357.434928  \n",
      "57  1532199357.446249  \n",
      "58  1532199358.456765  \n",
      "59  1532199358.471973  \n",
      "60  1532199359.479115  \n",
      "61  1532199359.500812  \n"
     ]
    }
   ],
   "source": [
    "df_conversation = df[\n",
    "    ((df['Src Address'] == most_frequent_ip) & (df['Dst Address'] == suspicious_ip)) |\n",
    "    ((df['Src Address'] == suspicious_ip) & (df['Dst Address'] == most_frequent_ip))\n",
    "]\n",
    "print(\"\\nConversation between most frequent IP and suspicious IP:\")\n",
    "print(df_conversation)"
   ]
  },
  {
   "cell_type": "code",
   "execution_count": 50,
   "metadata": {},
   "outputs": [
    {
     "name": "stdout",
     "output_type": "stream",
     "text": [
      "\n",
      "Payloads array:\n",
      "[ 975   98  989   98 1026   98 1012   98 1017   98 1059   98 1022   98\n",
      "  993   98  973   98 1006   98 1065   98 1020   98 1000   98 1018   98\n",
      " 1051   98 1018   98 1053   98 1051   98 1049   98 1024   98 1020   98\n",
      " 1020   98 1027   98 1033   98 1019   98 1031   98 1041   98  983   98\n",
      "  602   98]\n"
     ]
    }
   ],
   "source": [
    "payloads_array = df_conversation['Payload Size'].values\n",
    "print(\"\\nPayloads array:\")\n",
    "print(payloads_array)"
   ]
  },
  {
   "cell_type": "markdown",
   "metadata": {},
   "source": [
    "### Results\n",
    "Se puede observar un patrón inusual y sospechoso donde los valores alternan constantemente entre aproximadamente 1000 bytes y exactamente 98 bytes. Esta regularidad perfecta no es típica del tráfico DNS normal (puerto 53), ya que el valor constante de 98 bytes que se repite sugiere un tipo de comunicación automatizada, lo cual merece una investigación más detallada."
   ]
  }
 ],
 "metadata": {
  "kernelspec": {
   "display_name": ".venv",
   "language": "python",
   "name": "python3"
  },
  "language_info": {
   "codemirror_mode": {
    "name": "ipython",
    "version": 3
   },
   "file_extension": ".py",
   "mimetype": "text/x-python",
   "name": "python",
   "nbconvert_exporter": "python",
   "pygments_lexer": "ipython3",
   "version": "3.9.8"
  }
 },
 "nbformat": 4,
 "nbformat_minor": 2
}
