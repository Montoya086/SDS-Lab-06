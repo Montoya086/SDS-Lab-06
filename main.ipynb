{
 "cells": [
  {
   "cell_type": "markdown",
   "metadata": {},
   "source": [
    "# Lab 6 - Security Data Science\n",
    "\n",
    "Andrés Estuardo Montoya Wilhelm"
   ]
  },
  {
   "cell_type": "code",
   "execution_count": 5,
   "metadata": {},
   "outputs": [],
   "source": [
    "from scapy.all import *\n",
    "from scapy.layers.inet import IP, TCP, UDP\n",
    "import pandas as pd"
   ]
  },
  {
   "cell_type": "markdown",
   "metadata": {},
   "source": [
    "## Preamble"
   ]
  },
  {
   "cell_type": "code",
   "execution_count": 3,
   "metadata": {},
   "outputs": [],
   "source": [
    "def scapy_test():\n",
    "    print(\"Starting packet capture...\")\n",
    "    \n",
    "    #capture 25 packets\n",
    "    packets = sniff(count=25)\n",
    "    \n",
    "    print(\"\\nVariable type:\", type(packets))\n",
    "    print(\"Number of packets captured:\", len(packets))\n",
    "    print(\"\\nFirst packet type:\", type(packets[0]))\n",
    "    \n",
    "    #first 5 packets\n",
    "    print(\"\\nContent of first 5 packets:\")\n",
    "    for i in range(min(5, len(packets))):\n",
    "        print(f\"\\nPacket {i+1}:\")\n",
    "        print(packets[i].show())"
   ]
  },
  {
   "cell_type": "code",
   "execution_count": 4,
   "metadata": {},
   "outputs": [
    {
     "name": "stdout",
     "output_type": "stream",
     "text": [
      "Starting packet capture...\n",
      "\n",
      "Variable type: <class 'scapy.plist.PacketList'>\n",
      "Number of packets captured: 25\n",
      "\n",
      "First packet type: <class 'scapy.layers.l2.Ether'>\n",
      "\n",
      "Content of first 5 packets:\n",
      "\n",
      "Packet 1:\n",
      "###[ Ethernet ]### \n",
      "  dst       = 60:38:e0:a8:80:3a\n",
      "  src       = 4e:e4:0d:79:80:25\n",
      "  type      = IPv4\n",
      "###[ IP ]### \n",
      "     version   = 4\n",
      "     ihl       = 5\n",
      "     tos       = 0x0\n",
      "     len       = 192\n",
      "     id        = 0\n",
      "     flags     = DF\n",
      "     frag      = 0\n",
      "     ttl       = 64\n",
      "     proto     = udp\n",
      "     chksum    = 0xa41e\n",
      "     src       = 192.168.5.137\n",
      "     dst       = 142.250.64.227\n",
      "     \\options   \\\n",
      "###[ UDP ]### \n",
      "        sport     = 51533\n",
      "        dport     = https\n",
      "        len       = 172\n",
      "        chksum    = 0x753\n",
      "###[ Raw ]### \n",
      "           load      = 'E\\\\xe8\\x16.\\\\xef\\\\xf4UM6٤nL4y\\\\x89\\\\xa5\\\\x85\\\\xeb\\x08\\\\xa6\\\\x8f\\\\xd5-\\\\xd3.\\\\x92Ӭ\\\\xf0\\\\x88\\\\xf3r\\\\xac)\\\\x9b9\\\\x82:\\\\xa3\\\\x95(\\\\xd5ɴ\\\\xc0*\\\\x8a\\\\x9b\\\\x8d\\\\x9f\\x1fM(.\\x05ڶ&0\\\\x86Y2\\\\xefE}8>h0ۏ\\\\xc0\\\\x80h.R?\\\\xc4\\x12\\\\xf8\\\\xc8ؼ\\\\x93MsX\\\\xe2\\\\xb4\\\\xdc\\x10\\\\x80\\\\xe9\\\\xdb\\x02\\\\xb4Nԩ\\x04?M\\\\xafU%\\\\xc8\\\\xe8\\\\x84>F\\\\xab\\\\xb6\\\\x89\\x01\\\\xec-\\\\x98\\\\xb3U\\x0f,oc\\\\xde%\\x1b\\\\xb0\\\\x84\\\\x9e\\x1a\\\\xedl\\\\xd09\\\\xa6p\\\\x8c\\\\xddn^\\\\xa7^\\\\xfc\\\\xac\\x06~/\\\\xe3\\\\x97\\\\xe5S\\\\xf8_(\\\\x9c\\\\xe49\\\\xa9s\\\\xcfBU3'\n",
      "\n",
      "None\n",
      "\n",
      "Packet 2:\n",
      "###[ Ethernet ]### \n",
      "  dst       = 4e:e4:0d:79:80:25\n",
      "  src       = 60:38:e0:a8:80:3a\n",
      "  type      = IPv4\n",
      "###[ IP ]### \n",
      "     version   = 4\n",
      "     ihl       = 5\n",
      "     tos       = 0x0\n",
      "     len       = 61\n",
      "     id        = 0\n",
      "     flags     = DF\n",
      "     frag      = 0\n",
      "     ttl       = 53\n",
      "     proto     = udp\n",
      "     chksum    = 0xafa1\n",
      "     src       = 142.250.64.227\n",
      "     dst       = 192.168.5.137\n",
      "     \\options   \\\n",
      "###[ UDP ]### \n",
      "        sport     = https\n",
      "        dport     = 51533\n",
      "        len       = 41\n",
      "        chksum    = 0xb40c\n",
      "###[ Raw ]### \n",
      "           load      = 'Y\\\\x97\\\\xb3\\x10\\x03\\x1a\\\\xdc`\\x136\\\\\\\\x8e\\\\xfc*\\\\x9e\\\\xb5393i\\x16,\\\\x85\\x1f\\\\xb6\\\\xe3\\\\x9c\\\\xee\\\\x8f;Y\\\\xb3\\\\xb5'\n",
      "\n",
      "None\n",
      "\n",
      "Packet 3:\n",
      "###[ Ethernet ]### \n",
      "  dst       = 4e:e4:0d:79:80:25\n",
      "  src       = 60:38:e0:a8:80:3a\n",
      "  type      = IPv4\n",
      "###[ IP ]### \n",
      "     version   = 4\n",
      "     ihl       = 5\n",
      "     tos       = 0x0\n",
      "     len       = 194\n",
      "     id        = 0\n",
      "     flags     = DF\n",
      "     frag      = 0\n",
      "     ttl       = 53\n",
      "     proto     = udp\n",
      "     chksum    = 0xaf1c\n",
      "     src       = 142.250.64.227\n",
      "     dst       = 192.168.5.137\n",
      "     \\options   \\\n",
      "###[ UDP ]### \n",
      "        sport     = https\n",
      "        dport     = 51533\n",
      "        len       = 174\n",
      "        chksum    = 0x67d8\n",
      "###[ Raw ]### \n",
      "           load      = \"N\\\\x9cFp\\\\xb5\\\\xaf\\\\x9a{d=\\\\x92\\\\xce\\x12\\\\xf3\\\\xdc\\x00\\\\xaa\\\\xdd7nW\\x7f\\\\xca\\\\xfc_\\\\xa5x8(\\\\x8d\\\\xae\\\\xec80\\\\x9e\\\\xb3\\\\xea21\\\\xff\\x03e꩖\\\\x9f\\\\x9a-\\\\xeaX\\\\xdf3e\\\\xf4V\\x11\\\\x9c\\\\xdfU㨽\\\\x83ѫ\\\\xfd\\x05--P\\\\xe6m\\\\xe51\\\\x8e3w0\\\\xd5>i:\\\\xc2%\\U000333cc\\\\xd6[\\\\xe6>\\\\xffݬ\\\\xa9\\x15\\x01\\x0f\\\\xd7\\\\xed&b'\\\\x9cS\\\\xf0iaÐ\\\\xfc\\\\xb8W\\x15RJ2\\\\xd5\\\\xcdM)\\x02\\x00\\\\x80\\\\xc5>)\\\\xa4\\x18\\\\x83\\\\xe9\\\\xd0\\x13\\\\xf4\\\\xc5y\\\\xdc\\ue5c8:|\\\\xb3\\x1d\\\\xa9\\x14\\\\x97\\\\xb6+\\x02\\x0el\\x08\\\\xc7,LV\\\\x93\\\\xa4\\\\xa3\\\\xa0\\\\x8a\\x14\\\\xf0\\\\xef\"\n",
      "\n",
      "None\n",
      "\n",
      "Packet 4:\n",
      "###[ Ethernet ]### \n",
      "  dst       = 60:38:e0:a8:80:3a\n",
      "  src       = 4e:e4:0d:79:80:25\n",
      "  type      = IPv4\n",
      "###[ IP ]### \n",
      "     version   = 4\n",
      "     ihl       = 5\n",
      "     tos       = 0x0\n",
      "     len       = 68\n",
      "     id        = 0\n",
      "     flags     = DF\n",
      "     frag      = 0\n",
      "     ttl       = 64\n",
      "     proto     = udp\n",
      "     chksum    = 0xa49a\n",
      "     src       = 192.168.5.137\n",
      "     dst       = 142.250.64.227\n",
      "     \\options   \\\n",
      "###[ UDP ]### \n",
      "        sport     = 51533\n",
      "        dport     = https\n",
      "        len       = 48\n",
      "        chksum    = 0xf511\n",
      "###[ Raw ]### \n",
      "           load      = '@\\\\xe8\\x16.\\\\xef\\\\xf4UM6\\\\xcai1\\\\xcb\\rP\\\\xf3\\t!s\\\\x98 \\\\xabg\\\\x93\\\\x83\\\\xe60f\\r\\\\xae\\\\x90\\\\xa6r\\x19\\\\xe5\\\\x8bT\\\\xf1L\\\\xdf'\n",
      "\n",
      "None\n",
      "\n",
      "Packet 5:\n",
      "###[ Ethernet ]### \n",
      "  dst       = 4e:e4:0d:79:80:25\n",
      "  src       = ac:67:84:e7:8c:da\n",
      "  type      = IPv4\n",
      "###[ IP ]### \n",
      "     version   = 4\n",
      "     ihl       = 5\n",
      "     tos       = 0x0\n",
      "     len       = 162\n",
      "     id        = 39650\n",
      "     flags     = DF\n",
      "     frag      = 0\n",
      "     ttl       = 64\n",
      "     proto     = tcp\n",
      "     chksum    = 0x1325\n",
      "     src       = 192.168.5.117\n",
      "     dst       = 192.168.5.137\n",
      "     \\options   \\\n",
      "###[ TCP ]### \n",
      "        sport     = 8009\n",
      "        dport     = 50957\n",
      "        seq       = 1095326432\n",
      "        ack       = 197105223\n",
      "        dataofs   = 8\n",
      "        reserved  = 0\n",
      "        flags     = PA\n",
      "        window    = 408\n",
      "        chksum    = 0xc709\n",
      "        urgptr    = 0\n",
      "        options   = [('NOP', None), ('NOP', None), ('Timestamp', (176599418, 3630625649))]\n",
      "###[ Raw ]### \n",
      "           load      = '\\x17\\x03\\x03\\x00i\\x069\\\\xa4\\\\xd32\\\\x95\\rlF\\\\xb6d&\\\\xb5\\x06\\\\x8f\\\\xf7:\\\\x9d\\\\xac\\x7f\\x11\\\\xb2\\\\xbc\\\\xe8\\\\xac\"\\\\x95S\\\\xc7\\\\xe3\\x03d\\\\xfb\\\\xf96z\\\\xca?\\\\xd6\\x0bZ\\\\xff\\\\xa8\\\\x95\\\\xfb\\\\x85\\\\xc9.\\\\xef\\\\xe5\\\\x9dyQVEh\\\\xd2E\\n\\\\xd4\\x17$\\\\xaa壜\\\\xf0\\\\xa8,\\\\x8d\\\\xf0\\\\x8b.Y\\\\xf5\\x11\\x14\\\\xaam{\\x08\\\\x94\\\\xddE\\\\x9cI*M\\\\xf7\\\\xef\\\\xe4\\\\xcb_u~ɑ\\x08\\x16\\\\xcb\\\\xd0I\\\\xf5\\\\xce\\\\xcb'\n",
      "\n",
      "None\n"
     ]
    }
   ],
   "source": [
    "scapy_test()"
   ]
  },
  {
   "cell_type": "markdown",
   "metadata": {},
   "source": [
    "## Analysis"
   ]
  },
  {
   "cell_type": "code",
   "execution_count": 9,
   "metadata": {},
   "outputs": [],
   "source": [
    "def analyze_pcap(file):\n",
    "    print(\"Reading PCAP file...\")\n",
    "    packets = rdpcap(file)\n",
    "    \n",
    "    # Convert packets to DataFrame\n",
    "    print(\"\\nConverting packets to DataFrame...\")\n",
    "    packet_list = []\n",
    "    \n",
    "    for packet in packets:\n",
    "        if IP in packet:\n",
    "            packet_info = {\n",
    "                'Src Address': packet[IP].src,\n",
    "                'Dst Address': packet[IP].dst,\n",
    "                'Src Port': packet[TCP].sport if TCP in packet else packet[UDP].sport if UDP in packet else 'N/A',\n",
    "                'Dst Port': packet[TCP].dport if TCP in packet else packet[UDP].dport if UDP in packet else 'N/A'\n",
    "            }\n",
    "            packet_list.append(packet_info)\n",
    "    \n",
    "    df = pd.DataFrame(packet_list)\n",
    "    \n",
    "    return df"
   ]
  },
  {
   "cell_type": "code",
   "execution_count": 15,
   "metadata": {},
   "outputs": [
    {
     "name": "stdout",
     "output_type": "stream",
     "text": [
      "Reading PCAP file...\n",
      "\n",
      "Converting packets to DataFrame...\n"
     ]
    }
   ],
   "source": [
    "df = analyze_pcap('./analisis_paquetes.pcap')\n"
   ]
  },
  {
   "cell_type": "code",
   "execution_count": 16,
   "metadata": {},
   "outputs": [
    {
     "name": "stdout",
     "output_type": "stream",
     "text": [
      "   Src Address  Dst Address  Src Port  Dst Port\n",
      "0   10.1.10.53  84.54.22.33        53        53\n",
      "1  84.54.22.33   10.1.10.53        53        53\n",
      "2   10.1.10.53  84.54.22.33        53        53\n",
      "3  84.54.22.33   10.1.10.53        53        53\n",
      "4   10.1.10.53  84.54.22.33        53        53\n"
     ]
    }
   ],
   "source": [
    "print(df.head())"
   ]
  },
  {
   "cell_type": "code",
   "execution_count": 13,
   "metadata": {},
   "outputs": [
    {
     "name": "stdout",
     "output_type": "stream",
     "text": [
      "   Src Address  Dst Address  Src Port  Dst Port\n",
      "0   10.1.10.53  84.54.22.33        53        53\n",
      "1  84.54.22.33   10.1.10.53        53        53\n",
      "2   10.1.10.53  84.54.22.33        53        53\n",
      "3  84.54.22.33   10.1.10.53        53        53\n",
      "4   10.1.10.53  84.54.22.33        53        53\n"
     ]
    }
   ],
   "source": [
    "print(df[['Src Address', 'Dst Address', 'Src Port', 'Dst Port']].head())"
   ]
  },
  {
   "cell_type": "markdown",
   "metadata": {},
   "source": [
    "### All source IP's"
   ]
  },
  {
   "cell_type": "code",
   "execution_count": 17,
   "metadata": {},
   "outputs": [
    {
     "name": "stdout",
     "output_type": "stream",
     "text": [
      "['10.1.10.53' '84.54.22.33' '75.75.75.75']\n"
     ]
    }
   ],
   "source": [
    "print(df['Src Address'].unique())"
   ]
  },
  {
   "cell_type": "markdown",
   "metadata": {},
   "source": [
    "### All destination IP's"
   ]
  },
  {
   "cell_type": "code",
   "execution_count": 18,
   "metadata": {},
   "outputs": [
    {
     "name": "stdout",
     "output_type": "stream",
     "text": [
      "['84.54.22.33' '10.1.10.53' '75.75.75.75']\n"
     ]
    }
   ],
   "source": [
    "print(df['Dst Address'].unique())"
   ]
  },
  {
   "cell_type": "markdown",
   "metadata": {},
   "source": [
    "### Most frequent source IP "
   ]
  },
  {
   "cell_type": "code",
   "execution_count": 19,
   "metadata": {},
   "outputs": [
    {
     "name": "stdout",
     "output_type": "stream",
     "text": [
      "IP: 10.1.10.53\n"
     ]
    }
   ],
   "source": [
    "most_frequent_src = df['Src Address'].mode().iloc[0]\n",
    "print(f\"IP: {most_frequent_src}\")"
   ]
  },
  {
   "cell_type": "markdown",
   "metadata": {},
   "source": [
    "**Most frequent destination IP**"
   ]
  },
  {
   "cell_type": "code",
   "execution_count": 26,
   "metadata": {},
   "outputs": [
    {
     "name": "stdout",
     "output_type": "stream",
     "text": [
      "84.54.22.33\n"
     ]
    }
   ],
   "source": [
    "src_communications = df[df['Src Address'] == most_frequent_src]\n",
    "most_frequent_dst = src_communications['Dst Address'].mode().iloc[0]\n",
    "print(most_frequent_dst)"
   ]
  },
  {
   "cell_type": "markdown",
   "metadata": {},
   "source": [
    "**Most frequent destination port**"
   ]
  },
  {
   "cell_type": "code",
   "execution_count": 28,
   "metadata": {},
   "outputs": [
    {
     "name": "stdout",
     "output_type": "stream",
     "text": [
      "53\n"
     ]
    }
   ],
   "source": [
    "most_frequent_port = src_communications['Dst Port'].mode().iloc[0]\n",
    "print(most_frequent_port)"
   ]
  },
  {
   "cell_type": "markdown",
   "metadata": {},
   "source": [
    "**Source ports used**"
   ]
  },
  {
   "cell_type": "code",
   "execution_count": 32,
   "metadata": {},
   "outputs": [
    {
     "name": "stdout",
     "output_type": "stream",
     "text": [
      "[   53 15812 23903]\n"
     ]
    }
   ],
   "source": [
    "print(src_communications['Src Port'].unique())"
   ]
  },
  {
   "cell_type": "markdown",
   "metadata": {},
   "source": [
    "## Graphs"
   ]
  },
  {
   "cell_type": "code",
   "execution_count": null,
   "metadata": {},
   "outputs": [],
   "source": []
  }
 ],
 "metadata": {
  "kernelspec": {
   "display_name": ".venv",
   "language": "python",
   "name": "python3"
  },
  "language_info": {
   "codemirror_mode": {
    "name": "ipython",
    "version": 3
   },
   "file_extension": ".py",
   "mimetype": "text/x-python",
   "name": "python",
   "nbconvert_exporter": "python",
   "pygments_lexer": "ipython3",
   "version": "3.9.8"
  }
 },
 "nbformat": 4,
 "nbformat_minor": 2
}
